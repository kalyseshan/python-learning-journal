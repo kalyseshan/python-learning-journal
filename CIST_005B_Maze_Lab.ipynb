{
  "nbformat": 4,
  "nbformat_minor": 0,
  "metadata": {
    "colab": {
      "provenance": []
    },
    "kernelspec": {
      "name": "python3",
      "display_name": "Python 3"
    },
    "language_info": {
      "name": "python"
    }
  },
  "cells": [
    {
      "cell_type": "code",
      "execution_count": 15,
      "metadata": {
        "id": "QzyauwL2mXx9",
        "colab": {
          "base_uri": "https://localhost:8080/"
        },
        "outputId": "c9430751-b371-40be-8043-7785463a93a3"
      },
      "outputs": [
        {
          "output_type": "stream",
          "name": "stdout",
          "text": [
            "Enter the start point coordinates as integers formatted as x, y: 0, 0\n",
            "Enter the end point coordinates as integers formatted as x, y: 4, 4\n",
            "No solution found\n",
            "1 1 0 0 0 \n",
            "0 1 0 1 0 \n",
            "0 0 0 1 0 \n",
            "0 1 1 1 0 \n",
            "1 1 1 1 1 \n"
          ]
        }
      ],
      "source": [
        "maze = [\n",
        "    [0, 1, 0, 0, 0],\n",
        "    [0, 1, 0, 1, 0],\n",
        "    [0, 0, 0, 1, 0],\n",
        "    [0, 1, 1, 1, 0],\n",
        "    [1, 1, 1, 1, 0]\n",
        "]\n",
        "\n",
        "# Maze dimensions\n",
        "row_length = len(maze[0])\n",
        "col_length = len(maze)\n",
        "\n",
        "# User input start point coordinates\n",
        "while True:\n",
        "  try:\n",
        "    start1, start2 = eval(input(\"Enter the start point coordinates as integers formatted as x, y: \")) # Start point\n",
        "  except SyntaxError: # Account for unexpected input (Incorrect format)\n",
        "    print(\"Please check the formatting of your input.\")\n",
        "    continue\n",
        "  if int(start1) != start1 or int(start2) != start2: # Account for unexpected input (Non-integer)\n",
        "    print(\"Please enter integer values.\")\n",
        "    continue\n",
        "  elif not 0 <= start1 < col_length: # Account for unexpected input (Out of range)\n",
        "    print(\"Out of range. Please enter valid coordinates.\")\n",
        "    continue\n",
        "  elif not 0 <= start2 < row_length: # Account for unexpected input (Out of range)\n",
        "    print(\"Out of range. Please enter valid coordinates.\")\n",
        "    continue\n",
        "  else:\n",
        "    break\n",
        "\n",
        "# User input end point coordinates\n",
        "while True:\n",
        "  try:\n",
        "    end1, end2 = eval(input(\"Enter the end point coordinates as integers formatted as x, y: \")) # End point\n",
        "  except SyntaxError: # Account for unexpected input (Incorrect format)\n",
        "    print(\"Please check the formatting of your input.\")\n",
        "    continue\n",
        "  if int(end1) != end1 or int(end2) != end2: # Account for unexpected input (Non-integer)\n",
        "    print(\"Please enter integer values.\")\n",
        "    continue\n",
        "  elif not 0 <= end1 < col_length: # Account for unexpected input (Out of range)\n",
        "    print(\"Out of range. Please enter valid coordinates.\")\n",
        "    continue\n",
        "  elif not 0 <= end2 < row_length: # Account for unexpected input (Out of range)\n",
        "    print(\"Out of range. Please enter valid coordinates.\")\n",
        "    continue\n",
        "  else:\n",
        "    break\n",
        "\n",
        "def searchMaze(x, y):\n",
        "  if y >= row_length or y < 0 or x < 0 or x >= col_length: # Base Case #1: Boundaries of maze (edge case?)\n",
        "    return False\n",
        "  elif maze[x][y] == \"E\": # Base Case #2: Reached endpoint\n",
        "    maze[x][y] = 'P' # Add endpoint to path\n",
        "    return True\n",
        "  elif maze[x][y] == 1: # Base Case #3: Hit a wall (includes case of starting point being a wall)\n",
        "    return False\n",
        "  elif maze[x][y] == 2: # Base Case #4: Already visited this position\n",
        "    return False\n",
        "  else:\n",
        "    maze[x][y] = 2 # Mark current position as visited\n",
        "\n",
        "    # Recursive cases: Search right, left, down and up\n",
        "    if (searchMaze(x, y + 1)) or (searchMaze(x, y - 1)) or \\\n",
        "      (searchMaze(x + 1, y)) or (searchMaze(x - 1, y)):\n",
        "      maze[x][y] = 'P' # Mark solution path\n",
        "      return True\n",
        "    return False # Base Case #5: Dead-end, if no solution path is found\n",
        "\n",
        "\n",
        "if maze[end1][end2] != 1:\n",
        "  maze[end1][end2] = \"E\" # Mark the endpoint in the maze if open\n",
        "  # Run program\n",
        "  result = searchMaze(start1, start2)\n",
        "  if result == True:\n",
        "    print(\"Solution found\")\n",
        "  else:\n",
        "    print(\"No solution found\")\n",
        "\n",
        "else: # Base Case #6: If endpoint is a wall\n",
        "  print(\"No solution found\")\n",
        "\n",
        "# Display final marked maze\n",
        "for i in range(len(maze)):\n",
        "  for j in range(len(maze[i])):\n",
        "    print(maze[i][j], end = \" \")\n",
        "  print()"
      ]
    },
    {
      "cell_type": "markdown",
      "source": [
        "# Citations\n",
        "1. https://stackoverflow.com/questions/23294658/asking-the-user-for-input-until-they-give-a-valid-response\n",
        "  - Used to check how to account for errors in user input\n",
        "2. https://www.laurentluce.com/posts/solving-mazes-using-python-simple-recursivity-and-a-search/\n",
        "  - Used to check if I was on the right track for how to search in different directions\n",
        "  - Used to figure out why I had an IndexError (I had switched the comparison symbols)"
      ],
      "metadata": {
        "id": "ifsXyNw3nlt8"
      }
    }
  ]
}